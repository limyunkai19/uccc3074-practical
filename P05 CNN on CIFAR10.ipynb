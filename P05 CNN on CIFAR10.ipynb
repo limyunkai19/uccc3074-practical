{
 "cells": [
  {
   "cell_type": "markdown",
   "metadata": {},
   "source": [
    "# P05: CNN on CIFAR 10\n",
    "\n",
    "The objectives of this practical are:\n",
    "\n",
    "* Do more practice on CNN\n",
    "* Monitor the training history\n",
    "* Learn how to save a complete model\n",
    "* Learn how to save the weights and architectures separately\n",
    "* Learn how to create checkpoint at different point of your training\n",
    "\n",
    "Reference: \n",
    "* Data augmentation: https://machinelearningmastery.com/image-augmentation-deep-learning-keras/\n",
    "* Checkpoint: https://machinelearningmastery.com/check-point-deep-learning-models-keras/"
   ]
  },
  {
   "cell_type": "code",
   "execution_count": 1,
   "metadata": {},
   "outputs": [
    {
     "name": "stderr",
     "output_type": "stream",
     "text": [
      "Using TensorFlow backend.\n"
     ]
    }
   ],
   "source": [
    "# set up to automatically reload module\n",
    "%load_ext autoreload\n",
    "%autoreload 2    \n",
    "    \n",
    "import keras\n",
    "#from lib.cifar10 import load_data\n",
    "from lib.cifar10 import get_CIFAR10_data\n",
    "from keras.models import Sequential\n",
    "from keras.layers import Dense, Dropout, Activation, Flatten\n",
    "from keras.layers import Conv2D, MaxPooling2D\n",
    "import os\n",
    "import numpy as np"
   ]
  },
  {
   "cell_type": "markdown",
   "metadata": {},
   "source": [
    "### Load the CIFAR dataset\n",
    "\n",
    "The following code loads the CIFAR10. The preprocessing involved are:\n",
    "* center the data\n",
    "* perform one-hot embedding of the output label y of all samples\n",
    "\n",
    "Here, in addition to the training set (`X_train`, `y_train`) and testing set (`X_test`, `y_test`), we also sample 1000 samples from the training set for development and save them into (`X_dev`, `y_dev`)."
   ]
  },
  {
   "cell_type": "code",
   "execution_count": 2,
   "metadata": {
    "scrolled": false
   },
   "outputs": [
    {
     "name": "stdout",
     "output_type": "stream",
     "text": [
      "Load .\\data\\cifar-10-batches-py\\data_batch_1\n",
      "Load .\\data\\cifar-10-batches-py\\data_batch_2\n",
      "Load .\\data\\cifar-10-batches-py\\data_batch_3\n",
      "Load .\\data\\cifar-10-batches-py\\data_batch_4\n",
      "Load .\\data\\cifar-10-batches-py\\data_batch_5\n",
      "Load .\\data\\cifar-10-batches-py\\test_batch\n",
      "x_train shape: (5000, 32, 32, 3) y_train shape: (5000, 10)\n",
      "x_val shape: (500, 32, 32, 3) y_val shape: (500, 10)\n",
      "x_dev shape: (1000, 32, 32, 3) y_dev shape: (1000, 10)\n",
      "x_test shape: (500, 32, 32, 3) y_test shape: (500, 10)\n"
     ]
    }
   ],
   "source": [
    "# The data, shuffled and split between train and test sets:\n",
    "# X_train, y_train, X_test, y_test = load_data (r'.\\data\\cifar-10-batches-py')\n",
    "\n",
    "X_train, y_train, X_val, y_val, X_test, y_test, X_dev, y_dev = get_CIFAR10_data(r'.\\data\\cifar-10-batches-py', \n",
    "                 num_training  = 5000, \n",
    "                 num_validation = 500,\n",
    "                 num_test      = 500, \n",
    "                 num_dev      = 1000,\n",
    "                 b_center   = True, \n",
    "                 b_normalize = True,\n",
    "                 b_flatten  = False,\n",
    "                 b_add_bias = False,\n",
    "                 b_y_to_categorical = True)\n",
    "\n",
    "print('x_train shape:', X_train.shape, 'y_train shape:', y_train.shape)\n",
    "print('x_val shape:', X_val.shape, 'y_val shape:', y_val.shape)\n",
    "print('x_dev shape:', X_dev.shape, 'y_dev shape:', y_dev.shape)\n",
    "print('x_test shape:', X_test.shape, 'y_test shape:', y_test.shape)\n",
    "\n",
    "num_classes = 10"
   ]
  },
  {
   "cell_type": "markdown",
   "metadata": {},
   "source": [
    "# <u> Part 1: Build your CNN model for CIFAR10</u>\n",
    "\n",
    "Your first task is to build the following CNN structure. Remember that for the first layer, you must set the input's shape and the channel position. For the remaining layers, this would infer this automatically.\n",
    "\n",
    "1. 2D Convolution (#filters = 32, filter size = 3x3, pad to maintain shape, stride = 1, channel position = last)    \n",
    "2. ReLU Activation  \n",
    "3. 2D Convolution (#filters = 32, filter size = 3x3, no padding, stride = 1)\n",
    "4. ReLU Activation                  \n",
    "5. Max Pooling (filter size = 2x2, stride = filter size, no padding)        \n",
    "6. 2D Convolution (#filters = 64, filter size = 3x3, pad to maintain shape, stride = 1)           \n",
    "7. ReLU Activation              \n",
    "8. 2D Convolution (#filters = 64, filter size = 3x3, no padding, stride = 1)            \n",
    "9. ReLU Activation\n",
    "10. MaxPooling2 (filter size = 2x2, stride = filter size, no padding)                 \n",
    "11. Flatten                       \n",
    "12. Dense (#neurons = 512)                \n",
    "13. ReLU Activation                       \n",
    "14. Dense (#neurons = num_classes)                \n",
    "15. Softmax Activation   \n",
    "\n",
    "## Build the ConvNet\n",
    "\n",
    "**Exercise 1: Build your ConvNet**\n",
    "\n",
    "First, manually calculate the expected size of the output of each layer. You can use this size to verify if your implementation is correct or not. Then, write the code to implement the ConvNet. Verify your the summary of each layer reported by Keras against with your own calculation.`\n",
    "\n",
    "1. 2D Convolution:    \\_\\_\\_\\_\\_\\_\\_\\_\\_\\_\\_\\_\\_\\_\\_\n",
    "2. ReLU Activation    \\_\\_\\_\\_\\_\\_\\_\\_\\_\\_\\_\\_\\_\\_\\_\n",
    "3. 2D Convolution:    \\_\\_\\_\\_\\_\\_\\_\\_\\_\\_\\_\\_\\_\\_\\_\n",
    "4. ReLU Activation:   \\_\\_\\_\\_\\_\\_\\_\\_\\_\\_\\_\\_\\_\\_\\_\n",
    "5. Max Pooling:       \\_\\_\\_\\_\\_\\_\\_\\_\\_\\_\\_\\_\\_\\_\\_\n",
    "6. 2D Convolution:    \\_\\_\\_\\_\\_\\_\\_\\_\\_\\_\\_\\_\\_\\_\\_\n",
    "7. ReLU Activation:   \\_\\_\\_\\_\\_\\_\\_\\_\\_\\_\\_\\_\\_\\_\\_\n",
    "8. 2D Convolution:    \\_\\_\\_\\_\\_\\_\\_\\_\\_\\_\\_\\_\\_\\_\\_\n",
    "9. ReLU Activaiton:   \\_\\_\\_\\_\\_\\_\\_\\_\\_\\_\\_\\_\\_\\_\\_\n",
    "10. MaxPooling2:      \\_\\_\\_\\_\\_\\_\\_\\_\\_\\_\\_\\_\\_\\_\\_\n",
    "11. Flatten:          \\_\\_\\_\\_\\_\\_\\_\\_\\_\\_\\_\\_\\_\\_\\_               \n",
    "12. Dense:            \\_\\_\\_\\_\\_\\_\\_\\_\\_\\_\\_\\_\\_\\_\\_       \n",
    "13. ReLU:             \\_\\_\\_\\_\\_\\_\\_\\_\\_\\_\\_\\_\\_\\_\\_               \n",
    "14. Dense:            \\_\\_\\_\\_\\_\\_\\_\\_\\_\\_\\_\\_\\_\\_\\_             \n",
    "15. Softmax:          \\_\\_\\_\\_\\_\\_\\_\\_\\_\\_\\_\\_\\_\\_\\_        "
   ]
  },
  {
   "cell_type": "code",
   "execution_count": 3,
   "metadata": {},
   "outputs": [],
   "source": [
    "# Your code here\n",
    "model = Sequential()\n",
    "model.add(Conv2D(32, (3, 3),\n",
    "                padding='same',\n",
    "                strides=1,\n",
    "                input_shape=(32, 32, 3),\n",
    "                data_format='channels_last',\n",
    "                activation='relu'))\n",
    "model.add(Conv2D(32, (3, 3),\n",
    "                padding='valid',\n",
    "                strides=1,\n",
    "                activation='relu'))\n",
    "model.add(MaxPooling2D(\n",
    "                pool_size=(2, 2),\n",
    "                strides=2,\n",
    "                padding='valid'))\n",
    "model.add(Conv2D(64, (3, 3),\n",
    "                padding='same',\n",
    "                strides=1,\n",
    "                activation='relu'))\n",
    "model.add(Conv2D(64, (3, 3),\n",
    "                padding='valid',\n",
    "                strides=1,\n",
    "                activation='relu'))\n",
    "model.add(MaxPooling2D(\n",
    "                pool_size=(2, 2),\n",
    "                strides=2,\n",
    "                padding='valid'))\n",
    "model.add(Flatten())\n",
    "model.add(Dense(512, activation='relu'))\n",
    "model.add(Dense(10, activation='softmax'))"
   ]
  },
  {
   "cell_type": "code",
   "execution_count": 4,
   "metadata": {},
   "outputs": [
    {
     "name": "stdout",
     "output_type": "stream",
     "text": [
      "_________________________________________________________________\n",
      "Layer (type)                 Output Shape              Param #   \n",
      "=================================================================\n",
      "conv2d_1 (Conv2D)            (None, 32, 32, 32)        896       \n",
      "_________________________________________________________________\n",
      "conv2d_2 (Conv2D)            (None, 30, 30, 32)        9248      \n",
      "_________________________________________________________________\n",
      "max_pooling2d_1 (MaxPooling2 (None, 15, 15, 32)        0         \n",
      "_________________________________________________________________\n",
      "conv2d_3 (Conv2D)            (None, 15, 15, 64)        18496     \n",
      "_________________________________________________________________\n",
      "conv2d_4 (Conv2D)            (None, 13, 13, 64)        36928     \n",
      "_________________________________________________________________\n",
      "max_pooling2d_2 (MaxPooling2 (None, 6, 6, 64)          0         \n",
      "_________________________________________________________________\n",
      "flatten_1 (Flatten)          (None, 2304)              0         \n",
      "_________________________________________________________________\n",
      "dense_1 (Dense)              (None, 512)               1180160   \n",
      "_________________________________________________________________\n",
      "dense_2 (Dense)              (None, 10)                5130      \n",
      "=================================================================\n",
      "Total params: 1,250,858\n",
      "Trainable params: 1,250,858\n",
      "Non-trainable params: 0\n",
      "_________________________________________________________________\n"
     ]
    }
   ],
   "source": [
    "model.summary()"
   ]
  },
  {
   "cell_type": "markdown",
   "metadata": {},
   "source": [
    "**Exercise 2: Configure the learning process (Compile)**\n",
    "*  Use the adam optimizer (set the learning rate to 0.0001 and decay to 1e-6)\n",
    "*  Use the 'accuracy' metric\n",
    "*  Use the 'categorical_crossentropy' loss function for optimization"
   ]
  },
  {
   "cell_type": "code",
   "execution_count": 5,
   "metadata": {},
   "outputs": [],
   "source": [
    "# Your code here\n",
    "from keras import optimizers\n",
    "adam_optimizer = optimizers.Adam(lr=0.0001, decay=1e-6)\n",
    "model.compile(loss='categorical_crossentropy', optimizer=adam_optimizer, metrics=['accuracy'])"
   ]
  },
  {
   "cell_type": "markdown",
   "metadata": {},
   "source": [
    "## Train the model"
   ]
  },
  {
   "cell_type": "markdown",
   "metadata": {},
   "source": [
    "**Exercise 3: Train the model**\n",
    "* For this round, use the development set (`X_dev`, `y_dev`)\n",
    "* Split the development set: 700 samples for training and 300 samples for validation (set the `validation_split` parameter in `.fit`)\n",
    "* Run for 25 epochs and batch size of 32\n",
    "* Shuffle the data before each epoch "
   ]
  },
  {
   "cell_type": "code",
   "execution_count": 6,
   "metadata": {},
   "outputs": [
    {
     "name": "stdout",
     "output_type": "stream",
     "text": [
      "Train on 700 samples, validate on 300 samples\n",
      "Epoch 1/25\n",
      " - 30s - loss: 2.2850 - acc: 0.1429 - val_loss: 2.2691 - val_acc: 0.1633\n",
      "Epoch 2/25\n",
      " - 1s - loss: 2.2328 - acc: 0.2000 - val_loss: 2.2149 - val_acc: 0.1933\n",
      "Epoch 3/25\n",
      " - 1s - loss: 2.1381 - acc: 0.2486 - val_loss: 2.1236 - val_acc: 0.2433\n",
      "Epoch 4/25\n",
      " - 1s - loss: 2.0279 - acc: 0.2914 - val_loss: 2.0330 - val_acc: 0.2700\n",
      "Epoch 5/25\n",
      " - 1s - loss: 1.9062 - acc: 0.3000 - val_loss: 1.9790 - val_acc: 0.2867\n",
      "Epoch 6/25\n",
      " - 1s - loss: 1.8567 - acc: 0.3443 - val_loss: 1.9306 - val_acc: 0.3433\n",
      "Epoch 7/25\n",
      " - 1s - loss: 1.7724 - acc: 0.3671 - val_loss: 1.8998 - val_acc: 0.3633\n",
      "Epoch 8/25\n",
      " - 1s - loss: 1.7156 - acc: 0.4014 - val_loss: 1.8796 - val_acc: 0.3600\n",
      "Epoch 9/25\n",
      " - 1s - loss: 1.6721 - acc: 0.3971 - val_loss: 1.9267 - val_acc: 0.3367\n",
      "Epoch 10/25\n",
      " - 1s - loss: 1.6353 - acc: 0.4229 - val_loss: 1.8713 - val_acc: 0.3367\n",
      "Epoch 11/25\n",
      " - 1s - loss: 1.5682 - acc: 0.4571 - val_loss: 1.8354 - val_acc: 0.3667\n",
      "Epoch 12/25\n",
      " - 1s - loss: 1.5115 - acc: 0.4529 - val_loss: 1.8790 - val_acc: 0.3467\n",
      "Epoch 13/25\n",
      " - 1s - loss: 1.4715 - acc: 0.5000 - val_loss: 1.8554 - val_acc: 0.3600\n",
      "Epoch 14/25\n",
      " - 1s - loss: 1.4003 - acc: 0.5200 - val_loss: 1.8948 - val_acc: 0.3767\n",
      "Epoch 15/25\n",
      " - 1s - loss: 1.4261 - acc: 0.5171 - val_loss: 1.9098 - val_acc: 0.3367\n",
      "Epoch 16/25\n",
      " - 1s - loss: 1.3304 - acc: 0.5343 - val_loss: 1.8996 - val_acc: 0.3567\n",
      "Epoch 17/25\n",
      " - 1s - loss: 1.2736 - acc: 0.5671 - val_loss: 1.8993 - val_acc: 0.3500\n",
      "Epoch 18/25\n",
      " - 1s - loss: 1.1971 - acc: 0.5914 - val_loss: 1.9698 - val_acc: 0.3700\n",
      "Epoch 19/25\n",
      " - 1s - loss: 1.1873 - acc: 0.5900 - val_loss: 1.8902 - val_acc: 0.3567\n",
      "Epoch 20/25\n",
      " - 1s - loss: 1.1018 - acc: 0.6171 - val_loss: 1.9780 - val_acc: 0.3467\n",
      "Epoch 21/25\n",
      " - 1s - loss: 1.0728 - acc: 0.6400 - val_loss: 1.9191 - val_acc: 0.3633\n",
      "Epoch 22/25\n",
      " - 1s - loss: 0.9983 - acc: 0.6800 - val_loss: 1.9886 - val_acc: 0.3600\n",
      "Epoch 23/25\n",
      " - 1s - loss: 0.9794 - acc: 0.6557 - val_loss: 1.9432 - val_acc: 0.3600\n",
      "Epoch 24/25\n",
      " - 1s - loss: 0.9092 - acc: 0.7114 - val_loss: 2.0074 - val_acc: 0.3600\n",
      "Epoch 25/25\n",
      " - 1s - loss: 0.8829 - acc: 0.7043 - val_loss: 2.0321 - val_acc: 0.3600\n"
     ]
    }
   ],
   "source": [
    "# Your code here\n",
    "history = model.fit(X_dev, y_dev, validation_split=0.3, epochs=25, batch_size=32, shuffle=True, verbose=2)"
   ]
  },
  {
   "cell_type": "markdown",
   "metadata": {},
   "source": [
    "## Debug the training process\n",
    "\n",
    "The result (training loss, validation loss and training accuracy, validation accuracy) are captured in `history`. The following code plots two graphs, one for the loss and the other for the accuracy. For each graph, the performance for the validation and training dataset are contrasted to each other.\n",
    "\n",
    "You can use the dataset to explore the dataset.\n",
    "\n",
    "**Exercise #3: Plotting loss and accuracy curves**\n",
    "\n",
    "The code for this exercise has been given for you. Your task is to \n",
    "1. Review the variable `history`. # code to review 'history'. What is the type? What are the data included in 'history'? Are each of the data the numpy array or simply a list?\n",
    "2. Review the code in `plot_training_curves`. Probably when you have more time, you can try to re-implement this code from scratch without referring to it. "
   ]
  },
  {
   "cell_type": "code",
   "execution_count": 8,
   "metadata": {},
   "outputs": [
    {
     "data": {
      "image/png": "[encoded data removed]",
      "text/plain": [
       "<matplotlib.figure.Figure at 0x268aa8c0390>"
      ]
     },
     "execution_count": 8,
     "metadata": {},
     "output_type": "execute_result"
    },
    {
     "data": {
      "image/png": "[encoded data removed]",
      "text/plain": [
       "<matplotlib.figure.Figure at 0x268aa8c0390>"
      ]
     },
     "metadata": {},
     "output_type": "display_data"
    }
   ],
   "source": [
    "from lib.display import plot_training_curves\n",
    "plot_training_curves(history.history)"
   ]
  },
  {
   "cell_type": "markdown",
   "metadata": {},
   "source": [
    "In exercise 3, you will find that the gap between the validation and training accuracies grow wider (validation accuracy grows stagnant while training accuracy grows better). This is a sign of overfitting happening.\n",
    "\n",
    "## Overcoming overfitting\n",
    "\n",
    "**Exercise 4: Overcoming overfitting in our model**\n",
    "\n",
    "Your task now is to remove the overfitting. There are many techniques to reduce overfitting. One way to do this is to add dropout layers. Here, we insert three additional dropout layers (layer 6, 12 and 16) to regularize the network.\n",
    "\n",
    "1. 2D Convolution (#filters = 32, filter size = 3x3, pad to maintain shape, stride = 1, channel position = last)    \n",
    "2. ReLU Activation  \n",
    "3. 2D Convolution (#filters = 32, filter size = 3x3, no padding, stride = 1)\n",
    "4. ReLU Activation                  \n",
    "5. Max Pooling (filter size = 2x2, stride = filter size, no padding)                 \n",
    "6. **Dropout (Set drop out rate to 0.25)**\n",
    "7. 2D Convolution (#filters = 64, filter size = 3x3, pad to maintain shape, stride = 1)           \n",
    "8. ReLU Activation              \n",
    "9. 2D Convolution (#filters = 64, filter size = 3x3, no padding, stride = 1)            \n",
    "10. ReLU Activation\n",
    "11. MaxPooling2 (filter size = 2x2, stride = filter size, no padding)                 \n",
    "12. **Dropout (Set dropout rate to 0.25)**                   \n",
    "13. Flatten                       \n",
    "14. Dense (#neurons = 512)                \n",
    "15. ReLU Activation                       \n",
    "16. **Dropout (Set dropout rate to 0.5)**\n",
    "15. Dense (#neurons = num_classes)                \n",
    "16. Softmax Activation   "
   ]
  },
  {
   "cell_type": "code",
   "execution_count": 9,
   "metadata": {},
   "outputs": [],
   "source": [
    "def build_model():\n",
    "\n",
    "    # Build the ConvNet: Copy your answer from exercise 1 above and make the necessary modification\n",
    "    \n",
    "    # Configure the learning: Copy your answer from exercise 2 above\n",
    "    model = Sequential()\n",
    "    model.add(Conv2D(32, (3, 3),\n",
    "                    padding='same',\n",
    "                    strides=1,\n",
    "                    input_shape=(32, 32, 3),\n",
    "                    data_format='channels_last',\n",
    "                    activation='relu'))\n",
    "    model.add(Conv2D(32, (3, 3),\n",
    "                    padding='valid',\n",
    "                    strides=1,\n",
    "                    activation='relu'))\n",
    "    model.add(MaxPooling2D(\n",
    "                    pool_size=(2, 2),\n",
    "                    strides=2,\n",
    "                    padding='valid'))\n",
    "    model.add(Dropout(0.25))\n",
    "    model.add(Conv2D(64, (3, 3),\n",
    "                    padding='same',\n",
    "                    strides=1,\n",
    "                    activation='relu'))\n",
    "    model.add(Conv2D(64, (3, 3),\n",
    "                    padding='valid',\n",
    "                    strides=1,\n",
    "                    activation='relu'))\n",
    "    model.add(MaxPooling2D(\n",
    "                    pool_size=(2, 2),\n",
    "                    strides=2,\n",
    "                    padding='valid'))\n",
    "    model.add(Dropout(0.25))\n",
    "    model.add(Flatten())\n",
    "    model.add(Dense(512, activation='relu'))\n",
    "    model.add(Dropout(0.5))\n",
    "    model.add(Dense(10, activation='softmax'))\n",
    "    \n",
    "    from keras import optimizers\n",
    "    adam_optimizer = optimizers.Adam(lr=0.0001, decay=1e-6)\n",
    "    model.compile(loss='categorical_crossentropy', optimizer=adam_optimizer, metrics=['accuracy'])\n",
    "    \n",
    "    return model"
   ]
  },
  {
   "cell_type": "code",
   "execution_count": 10,
   "metadata": {},
   "outputs": [],
   "source": [
    "model = build_model()"
   ]
  },
  {
   "cell_type": "markdown",
   "metadata": {},
   "source": [
    "Now, let's train our model and visualize our result."
   ]
  },
  {
   "cell_type": "code",
   "execution_count": 11,
   "metadata": {},
   "outputs": [
    {
     "name": "stdout",
     "output_type": "stream",
     "text": [
      "Train on 700 samples, validate on 300 samples\n",
      "Epoch 1/25\n",
      "700/700 [==============================] - 1s 2ms/step - loss: 2.3035 - acc: 0.0900 - val_loss: 2.2915 - val_acc: 0.1433\n",
      "Epoch 2/25\n",
      "700/700 [==============================] - 1s 847us/step - loss: 2.2844 - acc: 0.1400 - val_loss: 2.2802 - val_acc: 0.1467\n",
      "Epoch 3/25\n",
      "700/700 [==============================] - 1s 852us/step - loss: 2.2672 - acc: 0.1557 - val_loss: 2.2606 - val_acc: 0.1533\n",
      "Epoch 4/25\n",
      "700/700 [==============================] - 1s 866us/step - loss: 2.2318 - acc: 0.1914 - val_loss: 2.2169 - val_acc: 0.1600\n",
      "Epoch 5/25\n",
      "700/700 [==============================] - 1s 853us/step - loss: 2.1754 - acc: 0.2257 - val_loss: 2.1536 - val_acc: 0.2567\n",
      "Epoch 6/25\n",
      "700/700 [==============================] - 1s 851us/step - loss: 2.0944 - acc: 0.2371 - val_loss: 2.0757 - val_acc: 0.2700\n",
      "Epoch 7/25\n",
      "700/700 [==============================] - 1s 867us/step - loss: 2.0380 - acc: 0.2486 - val_loss: 2.0140 - val_acc: 0.2667\n",
      "Epoch 8/25\n",
      "700/700 [==============================] - 1s 842us/step - loss: 1.9832 - acc: 0.2629 - val_loss: 2.0246 - val_acc: 0.2567\n",
      "Epoch 9/25\n",
      "700/700 [==============================] - 1s 830us/step - loss: 1.9605 - acc: 0.2629 - val_loss: 1.9965 - val_acc: 0.2800\n",
      "Epoch 10/25\n",
      "700/700 [==============================] - 1s 857us/step - loss: 1.9210 - acc: 0.2771 - val_loss: 1.9636 - val_acc: 0.2867\n",
      "Epoch 11/25\n",
      "700/700 [==============================] - 1s 857us/step - loss: 1.8982 - acc: 0.2957 - val_loss: 1.9458 - val_acc: 0.3233\n",
      "Epoch 12/25\n",
      "700/700 [==============================] - 1s 843us/step - loss: 1.8896 - acc: 0.3086 - val_loss: 1.9283 - val_acc: 0.3200\n",
      "Epoch 13/25\n",
      "700/700 [==============================] - 1s 818us/step - loss: 1.8616 - acc: 0.3186 - val_loss: 1.9175 - val_acc: 0.3300\n",
      "Epoch 14/25\n",
      "700/700 [==============================] - 1s 819us/step - loss: 1.8626 - acc: 0.3171 - val_loss: 1.9756 - val_acc: 0.3067\n",
      "Epoch 15/25\n",
      "700/700 [==============================] - 1s 809us/step - loss: 1.8295 - acc: 0.3271 - val_loss: 1.8895 - val_acc: 0.3400\n",
      "Epoch 16/25\n",
      "700/700 [==============================] - 1s 797us/step - loss: 1.7818 - acc: 0.3371 - val_loss: 1.8709 - val_acc: 0.3533\n",
      "Epoch 17/25\n",
      "700/700 [==============================] - 1s 827us/step - loss: 1.7622 - acc: 0.3614 - val_loss: 1.8623 - val_acc: 0.3500\n",
      "Epoch 18/25\n",
      "700/700 [==============================] - 1s 834us/step - loss: 1.7126 - acc: 0.3600 - val_loss: 1.8587 - val_acc: 0.3500\n",
      "Epoch 19/25\n",
      "700/700 [==============================] - 1s 834us/step - loss: 1.7109 - acc: 0.3686 - val_loss: 1.8710 - val_acc: 0.3500\n",
      "Epoch 20/25\n",
      "700/700 [==============================] - 1s 831us/step - loss: 1.6901 - acc: 0.3757 - val_loss: 1.8239 - val_acc: 0.4067\n",
      "Epoch 21/25\n",
      "700/700 [==============================] - 1s 829us/step - loss: 1.6312 - acc: 0.4114 - val_loss: 1.8162 - val_acc: 0.4000\n",
      "Epoch 22/25\n",
      "700/700 [==============================] - 1s 838us/step - loss: 1.6466 - acc: 0.4014 - val_loss: 1.7984 - val_acc: 0.3900\n",
      "Epoch 23/25\n",
      "700/700 [==============================] - 1s 866us/step - loss: 1.6142 - acc: 0.4043 - val_loss: 1.7953 - val_acc: 0.3667\n",
      "Epoch 24/25\n",
      "700/700 [==============================] - 1s 832us/step - loss: 1.6220 - acc: 0.4043 - val_loss: 1.8026 - val_acc: 0.3833\n",
      "Epoch 25/25\n",
      "700/700 [==============================] - 1s 843us/step - loss: 1.5954 - acc: 0.4086 - val_loss: 1.7974 - val_acc: 0.3900\n"
     ]
    }
   ],
   "source": [
    "# Train the model. Copy and paste your answer from above\n",
    "history = model.fit(X_dev, y_dev,\n",
    "                validation_split = 0.3,\n",
    "                batch_size=32,\n",
    "                epochs=25,\n",
    "                shuffle=True)"
   ]
  },
  {
   "cell_type": "markdown",
   "metadata": {},
   "source": [
    "If you have added the three layers correctly, you should see that the gap between the training and validation set should be small now."
   ]
  },
  {
   "cell_type": "code",
   "execution_count": 12,
   "metadata": {},
   "outputs": [
    {
     "data": {
      "image/png": "[encoded data removed]",
      "text/plain": [
       "<matplotlib.figure.Figure at 0x268adf74e48>"
      ]
     },
     "execution_count": 12,
     "metadata": {},
     "output_type": "execute_result"
    },
    {
     "data": {
      "image/png": "[encoded data removed]",
      "text/plain": [
       "<matplotlib.figure.Figure at 0x268adf74e48>"
      ]
     },
     "metadata": {},
     "output_type": "display_data"
    }
   ],
   "source": [
    "from lib.display import plot_training_curves\n",
    "plot_training_curves(history.history)"
   ]
  },
  {
   "cell_type": "markdown",
   "metadata": {},
   "source": [
    "## Evaluate our model on the test set\n",
    "\n",
    "Now let's evaluate our model on the test set. The accuracy would be low (~0.15) since we are only training using the development set."
   ]
  },
  {
   "cell_type": "code",
   "execution_count": 13,
   "metadata": {},
   "outputs": [
    {
     "name": "stdout",
     "output_type": "stream",
     "text": [
      "Test loss: 2.90609109879\n",
      "Test accuracy: 0.134000000119\n"
     ]
    }
   ],
   "source": [
    "# Score trained model.\n",
    "scores = model.evaluate(X_test, y_test, verbose=2)\n",
    "print('Test loss:', scores[0])\n",
    "print('Test accuracy:', scores[1])"
   ]
  },
  {
   "cell_type": "markdown",
   "metadata": {},
   "source": [
    "# <u>Part 2: Saving your model</u>\n",
    "\n",
    "Now that we have a model, you may want to save it to be used later. We can either save the whole model or save the architecture and the weights separately. \n",
    "\n",
    "### (A) Saving the whole model (architecture + weight + optimizer state)\n",
    "\n",
    "You can use model.save(filepath) to save a Keras model into a single HDF5 file which will contain:\n",
    "* the architecture of the model, allowing to re-create the model\n",
    "* the weights of the model\n",
    "* the training configuration (loss, optimizer)\n",
    "* the state of the optimizer, allowing to resume training exactly where you left off.\n",
    "\n",
    "Notes:\n",
    "* It is not recommended to use pickle or cPickle to save a Keras model.\n",
    "* Note that you will first need to install HDF5 and the Python library h5py, which do not come bundled with Keras.\n",
    "\n",
    "Reference: https://keras.io/getting-started/faq/#how-can-i-save-a-keras-model"
   ]
  },
  {
   "cell_type": "markdown",
   "metadata": {},
   "source": [
    "**Saving the model**\n",
    "\n",
    "The following code saves the whole model to disk for later use. Go and find `'full_mode.h5'`. Take note at the size of the file."
   ]
  },
  {
   "cell_type": "code",
   "execution_count": 14,
   "metadata": {},
   "outputs": [],
   "source": [
    "save_dir = os.path.join(os.getcwd(), 'P05_saved_models')\n",
    "if not os.path.isdir(save_dir):\n",
    "    os.makedirs(save_dir)"
   ]
  },
  {
   "cell_type": "code",
   "execution_count": 15,
   "metadata": {},
   "outputs": [],
   "source": [
    "model_file = os.path.join(save_dir, 'full_model.h5')"
   ]
  },
  {
   "cell_type": "code",
   "execution_count": 16,
   "metadata": {
    "scrolled": true
   },
   "outputs": [
    {
     "name": "stdout",
     "output_type": "stream",
     "text": [
      "Saved trained model parameters at C:\\Users\\user\\Desktop\\UCCD3074\\P05_saved_models\\full_model.h5\n"
     ]
    }
   ],
   "source": [
    "model.save(model_file)\n",
    "print('Saved trained model parameters at {:s}'.format(model_file))"
   ]
  },
  {
   "cell_type": "markdown",
   "metadata": {},
   "source": [
    "**Loading the saved model**\n",
    "\n",
    "You can then use keras.models.load_model(filepath) to reinstantiate your model. load_model will also take care of compiling the model using the saved training configuration (unless the model was never compiled in the first place).\n",
    "\n",
    "To test if we manage to import time, let's delete our model and then reload it from scratch."
   ]
  },
  {
   "cell_type": "code",
   "execution_count": 17,
   "metadata": {},
   "outputs": [],
   "source": [
    "del model         # delete model. Previous model has been eliminated from the memory"
   ]
  },
  {
   "cell_type": "code",
   "execution_count": 18,
   "metadata": {},
   "outputs": [],
   "source": [
    "from keras.models import load_model\n",
    "loaded_model = load_model(model_file)"
   ]
  },
  {
   "cell_type": "markdown",
   "metadata": {},
   "source": [
    "**Using the loaded model**\n",
    "\n",
    "When we use the model to evaluate on the test set, we will get the same performance as before."
   ]
  },
  {
   "cell_type": "code",
   "execution_count": 19,
   "metadata": {},
   "outputs": [
    {
     "name": "stdout",
     "output_type": "stream",
     "text": [
      "500/500 [==============================] - 0s 399us/step\n",
      "Test loss: 2.90609109879\n",
      "Test accuracy: 0.134000000119\n"
     ]
    }
   ],
   "source": [
    "# Score trained model.\n",
    "scores = loaded_model.evaluate(X_test, y_test, verbose=1)\n",
    "print('Test loss:', scores[0])\n",
    "print('Test accuracy:', scores[1])"
   ]
  },
  {
   "cell_type": "markdown",
   "metadata": {},
   "source": [
    "When you train using the loaded model, it does not train from scratch and will continue from where it started. You can confirm this is indeed the case by looking at the accuracy of the first epoch. "
   ]
  },
  {
   "cell_type": "code",
   "execution_count": 20,
   "metadata": {},
   "outputs": [
    {
     "name": "stdout",
     "output_type": "stream",
     "text": [
      "Train on 700 samples, validate on 300 samples\n",
      "Epoch 1/2\n",
      "700/700 [==============================] - 1s 965us/step - loss: 1.5757 - acc: 0.4286 - val_loss: 1.8050 - val_acc: 0.3633\n",
      "Epoch 2/2\n",
      "700/700 [==============================] - 1s 875us/step - loss: 1.5581 - acc: 0.4157 - val_loss: 1.7867 - val_acc: 0.3667\n"
     ]
    }
   ],
   "source": [
    "history = loaded_model.fit(X_dev, y_dev,\n",
    "                validation_split = 0.3,\n",
    "                batch_size=32,\n",
    "                epochs=2,\n",
    "                shuffle=True)"
   ]
  },
  {
   "cell_type": "markdown",
   "metadata": {},
   "source": [
    "## (B) Saving the architecture and weights separately\n",
    "\n",
    "Sometimes, you may want to choose to save the weights at different iterations. Since the architecture remains the same, it is a waste of space to save the whole model. So, you may want to save the architecture into a single file and the weights at different iterations to different weight files.\n",
    "\n",
    "In Keras, you can save the architecture as a `.json` file and the parameters as the `.h5` file.\n",
    "\n",
    "** Save the architecture of the network**\n",
    "\n",
    "To do this, you conver the model to a json string using `.to_jason` and then save the json string to the disk. Go and find `'network.h5'`. Take note at the size of the file."
   ]
  },
  {
   "cell_type": "code",
   "execution_count": 21,
   "metadata": {},
   "outputs": [],
   "source": [
    "network_filename  = os.path.join(save_dir, 'network.json')\n",
    "\n",
    "# save as JSON\n",
    "json_string = loaded_model.to_json()\n",
    "with open(network_filename, \"w\") as json_file:\n",
    "    json_file.write(json_string)"
   ]
  },
  {
   "cell_type": "markdown",
   "metadata": {},
   "source": [
    "**Save the model of the network**\n",
    "\n",
    "Next, we save the weights of the network using the command `.save_weights`. Go and find `'params.h5'`. Take note at the size of the file."
   ]
  },
  {
   "cell_type": "code",
   "execution_count": 22,
   "metadata": {},
   "outputs": [],
   "source": [
    "param_filename = os.path.join (save_dir, 'params.h5')\n",
    "\n",
    "# serialize weights to HDF5\n",
    "loaded_model.save_weights(param_filename)"
   ]
  },
  {
   "cell_type": "markdown",
   "metadata": {},
   "source": [
    "**Loading the architecture**\n",
    "\n",
    "Before we continue, first we delete the previous model. "
   ]
  },
  {
   "cell_type": "code",
   "execution_count": 23,
   "metadata": {},
   "outputs": [],
   "source": [
    "del loaded_model"
   ]
  },
  {
   "cell_type": "markdown",
   "metadata": {},
   "source": [
    "The following loads the architecture file from the disk. To do this, we read the jason string from our `.json` file. Then, we convert the json string into a Sequential model using the Keras function `model_from_json`."
   ]
  },
  {
   "cell_type": "code",
   "execution_count": 24,
   "metadata": {
    "scrolled": true
   },
   "outputs": [
    {
     "name": "stdout",
     "output_type": "stream",
     "text": [
      "Loaded architecture from disk\n"
     ]
    }
   ],
   "source": [
    "from keras.models import model_from_json\n",
    "\n",
    "# load json and create model\n",
    "json_file = open(network_filename, 'r')\n",
    "loaded_model_json = json_file.read()\n",
    "json_file.close()\n",
    "\n",
    "loaded_model2 = model_from_json(loaded_model_json)\n",
    "print(\"Loaded architecture from disk\")"
   ]
  },
  {
   "cell_type": "markdown",
   "metadata": {},
   "source": [
    "**Loading the weights**\n",
    "\n",
    "Once we have our model, we can load the weights into our model usin gthe command `.load_weights`."
   ]
  },
  {
   "cell_type": "code",
   "execution_count": 25,
   "metadata": {},
   "outputs": [
    {
     "name": "stdout",
     "output_type": "stream",
     "text": [
      "Loaded weights from disk\n"
     ]
    }
   ],
   "source": [
    "# load weights into new model\n",
    "loaded_model2.load_weights(param_filename)\n",
    "print(\"Loaded weights from disk\")"
   ]
  },
  {
   "cell_type": "markdown",
   "metadata": {},
   "source": [
    "**Configure the learning process**\n",
    "\n",
    "We have to configure the learning manually since the circuits related to the trainer is not included in the architecture file."
   ]
  },
  {
   "cell_type": "code",
   "execution_count": 27,
   "metadata": {},
   "outputs": [],
   "source": [
    "# evaluate loaded model on test data\n",
    "# initiate RMSprop optimizer\n",
    "opt = keras.optimizers.adam(lr=0.0001, decay=1e-6)\n",
    "\n",
    "# Let's train the model using adam\n",
    "loaded_model2.compile(loss='categorical_crossentropy',\n",
    "              optimizer=opt,\n",
    "              metrics=['accuracy'])"
   ]
  },
  {
   "cell_type": "markdown",
   "metadata": {},
   "source": [
    "**Using the loaded model**\n",
    "\n",
    "Now we are ready to use our model.\n",
    "\n",
    "Again, we evaluate it on our test set. We should get roughly the same accuracy value as before."
   ]
  },
  {
   "cell_type": "code",
   "execution_count": 28,
   "metadata": {},
   "outputs": [
    {
     "name": "stdout",
     "output_type": "stream",
     "text": [
      "500/500 [==============================] - 0s 681us/step\n",
      "Test loss: 3.18890283966\n",
      "Test accuracy: 0.132000000119\n"
     ]
    }
   ],
   "source": [
    "scores = loaded_model2.evaluate(X_test, y_test, verbose=1)\n",
    "print('Test loss:', scores[0])\n",
    "print('Test accuracy:', scores[1])"
   ]
  },
  {
   "cell_type": "markdown",
   "metadata": {},
   "source": [
    "You can also continue training. You should also see that it would continue to train from where you left."
   ]
  },
  {
   "cell_type": "code",
   "execution_count": 29,
   "metadata": {
    "scrolled": true
   },
   "outputs": [
    {
     "name": "stdout",
     "output_type": "stream",
     "text": [
      "Train on 700 samples, validate on 300 samples\n",
      "Epoch 1/2\n",
      "700/700 [==============================] - 1s 2ms/step - loss: 1.5421 - acc: 0.4486 - val_loss: 1.7831 - val_acc: 0.3933\n",
      "Epoch 2/2\n",
      "700/700 [==============================] - 1s 839us/step - loss: 1.5293 - acc: 0.4386 - val_loss: 1.7709 - val_acc: 0.3867\n"
     ]
    }
   ],
   "source": [
    "history = loaded_model2.fit(X_dev, y_dev,\n",
    "                validation_split = 0.3,\n",
    "                batch_size=32,\n",
    "                epochs=2,\n",
    "                shuffle=True)"
   ]
  },
  {
   "cell_type": "markdown",
   "metadata": {},
   "source": [
    "# <u> Part 3: Checkpointing Neural Network Models </u>\n",
    "\n",
    "Rather than manually saving the weights in your code, Keras provides the tools for you to do this automatically throughout the training process. This is known as **checkpointing** your application.\n",
    "\n",
    "Checkpointing is a fault tolerance technique for long running processes. It saves a snapshot of the state of the system at a certain predefined period. This means that you can stop your training and continue from where you let at a later time. When \n",
    "problem occurs and your system rebooted, not all is lost. \n",
    "\n",
    "The checkpoint may be used directly, or used as the starting point for a new run, picking up where it left off.\n",
    "\n",
    "When training deep learning models, the checkpoint is the weights of the model. These weights can be used to make predictions as is, or used as the basis for ongoing training.\n",
    "\n",
    "** `ModelCheckpoint`**\n",
    "\n",
    "The Keras library provides a checkpointing capability by a callback API. The `ModelCheckpoint` callback class allows you to define where to checkpoint the model weights, how the file should named and under what circumstances to make a checkpoint of the model.\n",
    "\n",
    "The API allows you to specify which metric to monitor, such as loss or accuracy on the training or validation dataset. You can specify whether to look for an improvement in maximizing or minimizing the score. Finally, the filename that you use to store the weights can include variables like the epoch number or metric."
   ]
  },
  {
   "cell_type": "markdown",
   "metadata": {},
   "source": [
    "### Checkpointing during training"
   ]
  },
  {
   "cell_type": "code",
   "execution_count": 30,
   "metadata": {},
   "outputs": [],
   "source": [
    "from keras.callbacks import ModelCheckpoint"
   ]
  },
  {
   "cell_type": "markdown",
   "metadata": {},
   "source": [
    "First, we need to create a `ModelCheckpoint` object called `checkpoint`. It is used to configure the checkpoints. `checkpoint` will be passed to the training process when calling the `.fit()` function on the model.\n",
    "\n",
    "The parameters when declaring a `ModelCheckpoint` object is as follows:\n",
    "* `filepath`: string, path to save the model file.\n",
    "* `monitor`: quantity to monitor.\n",
    "* `verbose`: verbosity mode, 0 or 1.\n",
    "* `save_best_only`: if save_best_only=True, the latest best model according to the quantity monitored will not be overwritten.\n",
    "* `mode`: one of {auto, min, max}. If save_best_only=True, the decision to overwrite the current save file is made based on either the maximization or the minimization of the monitored quantity. For val_acc, this should be max, for val_loss this should be min, etc. In auto mode, the direction is automatically inferred from the name of the monitored quantity.\n",
    "* `save_weights_only`: if True, then only the model's weights will be saved (model.save_weights(filepath)), else the full model is saved (model.save(filepath)).\n",
    "* `period`: Interval (number of epochs) between checkpoints."
   ]
  },
  {
   "cell_type": "markdown",
   "metadata": {},
   "source": [
    "**Keeping the best model only (one file for each checkpoint)**\n",
    "\n",
    "In the following, we will configure `checkpoint` such that it saves the network weights only when there is an improvement in classification accuracy on the validation dataset (monitor=’val_acc’ and mode=’max’). \n",
    "\n",
    "The weights are stored in a file that includes (1) the epoch number and (2) the score in the filename."
   ]
  },
  {
   "cell_type": "code",
   "execution_count": 31,
   "metadata": {},
   "outputs": [],
   "source": [
    "filepath  = os.path.join(save_dir, \"model-{epoch:02d}-{val_acc:.2f}.hdf5\")\n",
    "\n",
    "checkpoint = ModelCheckpoint(\n",
    "            filepath, \n",
    "            monitor='val_acc', \n",
    "            verbose=1, \n",
    "            save_best_only=True, \n",
    "            save_weights_only=False,\n",
    "            mode='max',\n",
    "            period = 1)"
   ]
  },
  {
   "cell_type": "code",
   "execution_count": 32,
   "metadata": {
    "scrolled": false
   },
   "outputs": [
    {
     "name": "stdout",
     "output_type": "stream",
     "text": [
      "Train on 700 samples, validate on 300 samples\n",
      "Epoch 1/2\n",
      "Epoch 00001: val_acc improved from -inf to 0.14667, saving model to C:\\Users\\user\\Desktop\\UCCD3074\\P05_saved_models\\model-01-0.15.hdf5\n",
      " - 2s - loss: 2.3086 - acc: 0.1157 - val_loss: 2.3010 - val_acc: 0.1467\n",
      "Epoch 2/2\n",
      "Epoch 00002: val_acc did not improve\n",
      " - 0s - loss: 2.2933 - acc: 0.1357 - val_loss: 2.2980 - val_acc: 0.1367\n"
     ]
    }
   ],
   "source": [
    "validation_split = 0.3\n",
    "epochs = 2\n",
    "model = build_model()\n",
    "history = model.fit(X_dev, y_dev,\n",
    "                  validation_split =validation_split,\n",
    "                  batch_size=256,\n",
    "                  epochs=epochs,\n",
    "                  callbacks = [checkpoint],\n",
    "                  shuffle=True,\n",
    "                  verbose = 2)"
   ]
  },
  {
   "cell_type": "markdown",
   "metadata": {},
   "source": [
    "**Keeping the best model only (save to same file)**\n",
    "\n",
    "A simpler check-point strategy is to save the model weights to the same file, if and only if the validation accuracy improves.\n",
    "\n",
    "This can be done easily using the same code from above and changing the output filename to be fixed (not include score or epoch information).\n",
    "\n",
    "In this case, model weights are written to the file “weights.best.hdf5” only if the classification accuracy of the model on the validation dataset improves over the best seen so far."
   ]
  },
  {
   "cell_type": "code",
   "execution_count": 33,
   "metadata": {},
   "outputs": [],
   "source": [
    "filepath  = os.path.join(save_dir, \"best_model.hdf5\")\n",
    "\n",
    "checkpoint = ModelCheckpoint(\n",
    "            filepath, \n",
    "            monitor='val_acc', \n",
    "            verbose=1, \n",
    "            save_best_only=True, \n",
    "            save_weights_only=False,\n",
    "            mode='max',\n",
    "            period = 1)   # checkpoint every 1 epoch"
   ]
  },
  {
   "cell_type": "code",
   "execution_count": 34,
   "metadata": {
    "scrolled": false
   },
   "outputs": [
    {
     "name": "stdout",
     "output_type": "stream",
     "text": [
      "Train on 700 samples, validate on 300 samples\n",
      "Epoch 1/2\n",
      "Epoch 00001: val_acc improved from -inf to 0.10667, saving model to C:\\Users\\user\\Desktop\\UCCD3074\\P05_saved_models\\best_model.hdf5\n",
      " - 2s - loss: 2.3091 - acc: 0.0914 - val_loss: 2.3006 - val_acc: 0.1067\n",
      "Epoch 2/2\n",
      "Epoch 00002: val_acc improved from 0.10667 to 0.11000, saving model to C:\\Users\\user\\Desktop\\UCCD3074\\P05_saved_models\\best_model.hdf5\n",
      " - 0s - loss: 2.2963 - acc: 0.1186 - val_loss: 2.2962 - val_acc: 0.1100\n"
     ]
    }
   ],
   "source": [
    "validation_split = 0.3\n",
    "epochs = 2\n",
    "model = build_model()\n",
    "history = model.fit(X_dev, y_dev,\n",
    "                  validation_split =validation_split,\n",
    "                  batch_size=256,\n",
    "                  epochs=epochs,\n",
    "                  callbacks = [checkpoint],\n",
    "                  shuffle=True,\n",
    "                  verbose = 2)"
   ]
  },
  {
   "cell_type": "code",
   "execution_count": 35,
   "metadata": {},
   "outputs": [
    {
     "name": "stdout",
     "output_type": "stream",
     "text": [
      "500/500 [==============================] - 0s 263us/step\n",
      "Test loss: 2.30128372574\n",
      "Test accuracy: 0.0960000000298\n"
     ]
    }
   ],
   "source": [
    "scores = model.evaluate(X_test, y_test, verbose=1)\n",
    "print('Test loss:', scores[0])\n",
    "print('Test accuracy:', scores[1])"
   ]
  },
  {
   "cell_type": "markdown",
   "metadata": {},
   "source": [
    "***Loading and continuing from a saved checkpoint***\n",
    "\n",
    "Now that you have seen how to checkpoint your deep learning models during training, you need to review how to load and use a checkpointed model.\n",
    "\n",
    "The checkpoint only includes the model weights. It assumes you know the network structure. This too can be serialize to file in JSON or YAML format.\n",
    "\n",
    "In the example below, the model structure is known and the best weights are loaded from the previous experiment, stored in the working directory in the weights.best.hdf5 file.\n",
    "\n",
    "The model is then used to make predictions on the entire dataset."
   ]
  },
  {
   "cell_type": "code",
   "execution_count": 36,
   "metadata": {},
   "outputs": [],
   "source": [
    "del model"
   ]
  },
  {
   "cell_type": "code",
   "execution_count": 37,
   "metadata": {},
   "outputs": [
    {
     "name": "stdout",
     "output_type": "stream",
     "text": [
      "500/500 [==============================] - 0s 570us/step\n",
      "Test loss: 2.30128372574\n",
      "Test accuracy: 0.0960000000298\n"
     ]
    }
   ],
   "source": [
    "# Score trained model.\n",
    "model_file  = os.path.join(save_dir, 'best_model.hdf5')\n",
    "\n",
    "from keras.models import load_model\n",
    "model = load_model(model_file)\n",
    "\n",
    "scores = model.evaluate(X_test, y_test, verbose=1)\n",
    "print('Test loss:', scores[0])\n",
    "print('Test accuracy:', scores[1])"
   ]
  },
  {
   "cell_type": "markdown",
   "metadata": {},
   "source": [
    "**Exercise 5: Optimize the CIFAR10 classifier**\n",
    "\n",
    "* Build the best CIFAR10 classifier using the training set.\n",
    "* Since training may take time, use checkpoints to train it whenever you can.\n",
    "* You may also consider perform data augmentation to improve your result."
   ]
  }
 ],
 "metadata": {
  "kernelspec": {
   "display_name": "Python [conda env:tfgpu]",
   "language": "python",
   "name": "conda-env-tfgpu-py"
  },
  "language_info": {
   "codemirror_mode": {
    "name": "ipython",
    "version": 3
   },
   "file_extension": ".py",
   "mimetype": "text/x-python",
   "name": "python",
   "nbconvert_exporter": "python",
   "pygments_lexer": "ipython3",
   "version": "3.6.3"
  }
 },
 "nbformat": 4,
 "nbformat_minor": 2
}
